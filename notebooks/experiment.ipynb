{
 "cells": [
  {
   "cell_type": "code",
   "execution_count": 23,
   "metadata": {},
   "outputs": [],
   "source": [
    "import os\n",
    "import re\n",
    "import string\n",
    "import warnings\n",
    "import pandas as pd\n",
    "import numpy as np\n",
    "import mlflow\n",
    "import mlflow.sklearn\n",
    "import dagshub\n",
    "from sklearn.feature_extraction.text import CountVectorizer, TfidfVectorizer\n",
    "from sklearn.model_selection import train_test_split, GridSearchCV\n",
    "from sklearn.linear_model import LogisticRegression\n",
    "from sklearn.naive_bayes import MultinomialNB\n",
    "from xgboost import XGBClassifier\n",
    "from sklearn.ensemble import RandomForestClassifier, GradientBoostingClassifier\n",
    "from sklearn.metrics import accuracy_score, precision_score, recall_score, f1_score\n",
    "from nltk.corpus import stopwords\n",
    "from nltk.stem import WordNetLemmatizer\n",
    "import scipy.sparse"
   ]
  },
  {
   "cell_type": "code",
   "execution_count": 24,
   "metadata": {},
   "outputs": [
    {
     "data": {
      "text/html": [
       "<div>\n",
       "<style scoped>\n",
       "    .dataframe tbody tr th:only-of-type {\n",
       "        vertical-align: middle;\n",
       "    }\n",
       "\n",
       "    .dataframe tbody tr th {\n",
       "        vertical-align: top;\n",
       "    }\n",
       "\n",
       "    .dataframe thead th {\n",
       "        text-align: right;\n",
       "    }\n",
       "</style>\n",
       "<table border=\"1\" class=\"dataframe\">\n",
       "  <thead>\n",
       "    <tr style=\"text-align: right;\">\n",
       "      <th></th>\n",
       "      <th>review</th>\n",
       "      <th>sentiment</th>\n",
       "    </tr>\n",
       "  </thead>\n",
       "  <tbody>\n",
       "    <tr>\n",
       "      <th>848</th>\n",
       "      <td>i stopped this movie at 48 minutes and change....</td>\n",
       "      <td>negative</td>\n",
       "    </tr>\n",
       "    <tr>\n",
       "      <th>446</th>\n",
       "      <td>First and foremost this movie has the stupides...</td>\n",
       "      <td>negative</td>\n",
       "    </tr>\n",
       "    <tr>\n",
       "      <th>585</th>\n",
       "      <td>Quentin Tarantino's partner in crime Roger Ava...</td>\n",
       "      <td>negative</td>\n",
       "    </tr>\n",
       "    <tr>\n",
       "      <th>527</th>\n",
       "      <td>Here is another great film critics will love. ...</td>\n",
       "      <td>negative</td>\n",
       "    </tr>\n",
       "    <tr>\n",
       "      <th>567</th>\n",
       "      <td>Still haven't read a single Dan Brown book, bu...</td>\n",
       "      <td>positive</td>\n",
       "    </tr>\n",
       "  </tbody>\n",
       "</table>\n",
       "</div>"
      ],
      "text/plain": [
       "                                                review sentiment\n",
       "848  i stopped this movie at 48 minutes and change....  negative\n",
       "446  First and foremost this movie has the stupides...  negative\n",
       "585  Quentin Tarantino's partner in crime Roger Ava...  negative\n",
       "527  Here is another great film critics will love. ...  negative\n",
       "567  Still haven't read a single Dan Brown book, bu...  positive"
      ]
     },
     "execution_count": 24,
     "metadata": {},
     "output_type": "execute_result"
    }
   ],
   "source": [
    "df = pd.read_csv('IMDB.csv')\n",
    "df = df.sample(500)\n",
    "df.to_csv('data.csv', index=False)\n",
    "df.head()"
   ]
  },
  {
   "cell_type": "code",
   "execution_count": 25,
   "metadata": {},
   "outputs": [],
   "source": [
    "CONFIG = {\n",
    "    \"mlflow_tracking_uri\": \"https://dagshub.com/i-atul/mlops-imdb-sentiment-analysis.mlflow\",\n",
    "    \"dagshub_repo_owner\": \"i-atul\",\n",
    "    \"dagshub_repo_name\": \"mlops-imdb-sentiment-analysis\",\n",
    "    \"experiment_name\": \"All Experiments\",\n",
    "    \"data_path\": \"data.csv\",\n",
    "    \"test_size\": 0.2,\n",
    "}"
   ]
  },
  {
   "cell_type": "code",
   "execution_count": 26,
   "metadata": {},
   "outputs": [],
   "source": [
    "def init_mlflow():\n",
    "    mlflow.set_tracking_uri(CONFIG[\"mlflow_tracking_uri\"])\n",
    "    dagshub.init(repo_owner=CONFIG[\"dagshub_repo_owner\"], repo_name=CONFIG[\"dagshub_repo_name\"], mlflow=True)\n",
    "    mlflow.set_experiment(CONFIG[\"experiment_name\"])\n"
   ]
  },
  {
   "cell_type": "code",
   "execution_count": 27,
   "metadata": {},
   "outputs": [],
   "source": [
    "def preprocess_text(text):\n",
    "    lemmatizer = WordNetLemmatizer()\n",
    "    stop_words = set(stopwords.words(\"english\"))\n",
    "    text = text.lower()\n",
    "    text = re.sub(r'https?://\\S+|www\\.\\S+', '', text)\n",
    "    text = re.sub(f\"[{re.escape(string.punctuation)}]\", ' ', text)\n",
    "    text = ''.join([char for char in text if not char.isdigit()])\n",
    "    text = \" \".join([word for word in text.split() if word not in stop_words])\n",
    "    text = \" \".join([lemmatizer.lemmatize(word) for word in text.split()])\n",
    "    return text"
   ]
  },
  {
   "cell_type": "code",
   "execution_count": 28,
   "metadata": {},
   "outputs": [],
   "source": [
    "def normalize_text(df):\n",
    "    try:\n",
    "        df['review'] = df['review'].apply(preprocess_text)\n",
    "        return df\n",
    "    except Exception as e:\n",
    "        print(f\"Error during text normalization: {e}\")\n",
    "        raise"
   ]
  },
  {
   "cell_type": "code",
   "execution_count": 29,
   "metadata": {},
   "outputs": [],
   "source": [
    "def load_data(file_path):\n",
    "    try:\n",
    "        df = pd.read_csv(file_path)\n",
    "        df = normalize_text(df)\n",
    "        df = df[df['sentiment'].isin(['positive', 'negative'])]\n",
    "        df['sentiment'] = df['sentiment'].replace({'negative': 0, 'positive': 1}).infer_objects(copy=False)\n",
    "        return df\n",
    "    except Exception as e:\n",
    "        print(f\"Error loading data: {e}\")\n",
    "        raise"
   ]
  },
  {
   "cell_type": "code",
   "execution_count": 30,
   "metadata": {},
   "outputs": [],
   "source": [
    "VECTORIZERS = {\n",
    "    'BoW': CountVectorizer(),\n",
    "    'TF-IDF': TfidfVectorizer()\n",
    "}"
   ]
  },
  {
   "cell_type": "code",
   "execution_count": 31,
   "metadata": {},
   "outputs": [],
   "source": [
    "ALGORITHMS = {\n",
    "    'LogisticRegression': (LogisticRegression(), {\n",
    "        \"C\": [0.1, 1, 10],\n",
    "        \"penalty\": [\"l1\", \"l2\"],\n",
    "        \"solver\": [\"liblinear\"]\n",
    "    }),\n",
    "    'MultinomialNB': (MultinomialNB(), {\n",
    "        \"alpha\": [0.5, 1.0, 1.5]\n",
    "    }),\n",
    "    'XGBoost': (XGBClassifier(), {\n",
    "        \"n_estimators\": [100, 200],\n",
    "        \"learning_rate\": [0.01, 0.1],\n",
    "        \"max_depth\": [3, 6]\n",
    "    }),\n",
    "    'RandomForest': (RandomForestClassifier(), {\n",
    "        \"n_estimators\": [100, 200],\n",
    "        \"max_depth\": [None, 10, 20]\n",
    "    }),\n",
    "    'GradientBoosting': (GradientBoostingClassifier(), {\n",
    "        \"n_estimators\": [100, 200],\n",
    "        \"learning_rate\": [0.01, 0.1],\n",
    "        \"max_depth\": [3, 6]\n",
    "    })\n",
    "}"
   ]
  },
  {
   "cell_type": "code",
   "execution_count": 32,
   "metadata": {},
   "outputs": [],
   "source": [
    "def train_and_evaluate(df):\n",
    "    with mlflow.start_run(run_name=\"All Experiments\") as parent_run:\n",
    "        for algo_name, (algorithm, param_grid) in ALGORITHMS.items():\n",
    "            for vec_name, vectorizer in VECTORIZERS.items():\n",
    "                with mlflow.start_run(run_name=f\"{algo_name} with {vec_name}\", nested=True) as child_run:\n",
    "                    try:\n",
    "                        X = vectorizer.fit_transform(df['review'])\n",
    "                        y = df['sentiment']\n",
    "                        X_train, X_test, y_train, y_test = train_test_split(X, y, test_size=CONFIG[\"test_size\"], random_state=42)\n",
    "\n",
    "                        mlflow.log_params({\n",
    "                            \"vectorizer\": vec_name,\n",
    "                            \"algorithm\": algo_name,\n",
    "                            \"test_size\": CONFIG[\"test_size\"]\n",
    "                        })\n",
    "\n",
    "                        grid_search = GridSearchCV(algorithm, param_grid, cv=5, scoring=\"f1\", n_jobs=-1)\n",
    "                        grid_search.fit(X_train, y_train)\n",
    "\n",
    "                        for params, mean_score, std_score in zip(grid_search.cv_results_[\"params\"], \n",
    "                                                                 grid_search.cv_results_[\"mean_test_score\"], \n",
    "                                                                 grid_search.cv_results_[\"std_test_score\"]):\n",
    "                            with mlflow.start_run(run_name=f\"{algo_name} with params: {params}\", nested=True):\n",
    "                                model = algorithm.set_params(**params)\n",
    "                                model.fit(X_train, y_train)\n",
    "                                \n",
    "                                y_pred = model.predict(X_test)\n",
    "                                \n",
    "                                metrics = {\n",
    "                                    \"accuracy\": accuracy_score(y_test, y_pred),\n",
    "                                    \"precision\": precision_score(y_test, y_pred),\n",
    "                                    \"recall\": recall_score(y_test, y_pred),\n",
    "                                    \"f1_score\": f1_score(y_test, y_pred),\n",
    "                                    \"mean_cv_score\": mean_score,\n",
    "                                    \"std_cv_score\": std_score\n",
    "                                }\n",
    "                                \n",
    "                                mlflow.log_params(params)\n",
    "                                mlflow.log_metrics(metrics)\n",
    "                                \n",
    "                                print(f\"Params: {params} | Accuracy: {metrics['accuracy']:.4f} | F1: {metrics['f1_score']:.4f}\")\n",
    "\n",
    "                        best_params = grid_search.best_params_\n",
    "                        best_model = grid_search.best_estimator_\n",
    "                        best_f1 = grid_search.best_score_\n",
    "\n",
    "                        mlflow.log_params(best_params)\n",
    "                        mlflow.log_metric(\"best_f1_score\", best_f1)\n",
    "                        input_example = X_test[:5] if not scipy.sparse.issparse(X_test) else X_test[:5].toarray()\n",
    "                        mlflow.sklearn.log_model(best_model, \"model\", input_example=input_example)\n",
    "                        \n",
    "                        print(f\"\\nBest Params: {best_params} | Best F1 Score: {best_f1:.4f}\")\n",
    "\n",
    "                    except Exception as e:\n",
    "                        print(f\"Error in training {algo_name} with {vec_name}: {e}\")\n",
    "                        mlflow.log_param(\"error\", str(e))\n"
   ]
  },
  {
   "cell_type": "code",
   "execution_count": 33,
   "metadata": {},
   "outputs": [
    {
     "data": {
      "text/html": [
       "<pre style=\"white-space:pre;overflow-x:auto;line-height:normal;font-family:Menlo,'DejaVu Sans Mono',consolas,'Courier New',monospace\">Initialized MLflow to track repo <span style=\"color: #008000; text-decoration-color: #008000\">\"i-atul/mlops-imdb-sentiment-analysis\"</span>\n",
       "</pre>\n"
      ],
      "text/plain": [
       "Initialized MLflow to track repo \u001b[32m\"i-atul/mlops-imdb-sentiment-analysis\"\u001b[0m\n"
      ]
     },
     "metadata": {},
     "output_type": "display_data"
    },
    {
     "data": {
      "text/html": [
       "<pre style=\"white-space:pre;overflow-x:auto;line-height:normal;font-family:Menlo,'DejaVu Sans Mono',consolas,'Courier New',monospace\">Repository i-atul/mlops-imdb-sentiment-analysis initialized!\n",
       "</pre>\n"
      ],
      "text/plain": [
       "Repository i-atul/mlops-imdb-sentiment-analysis initialized!\n"
      ]
     },
     "metadata": {},
     "output_type": "display_data"
    },
    {
     "name": "stdout",
     "output_type": "stream",
     "text": [
      "Params: {'C': 0.1, 'penalty': 'l1', 'solver': 'liblinear'} | Accuracy: 0.6300 | F1: 0.6186\n",
      "🏃 View run LogisticRegression with params: {'C': 0.1, 'penalty': 'l1', 'solver': 'liblinear'} at: https://dagshub.com/i-atul/mlops-imdb-sentiment-analysis.mlflow/#/experiments/1/runs/5075a561e36142318979244c8bd36101\n",
      "🧪 View experiment at: https://dagshub.com/i-atul/mlops-imdb-sentiment-analysis.mlflow/#/experiments/1\n",
      "Params: {'C': 0.1, 'penalty': 'l2', 'solver': 'liblinear'} | Accuracy: 0.7900 | F1: 0.7640\n",
      "🏃 View run LogisticRegression with params: {'C': 0.1, 'penalty': 'l2', 'solver': 'liblinear'} at: https://dagshub.com/i-atul/mlops-imdb-sentiment-analysis.mlflow/#/experiments/1/runs/65703c1ac04244ca9acd9b4c633200ca\n",
      "🧪 View experiment at: https://dagshub.com/i-atul/mlops-imdb-sentiment-analysis.mlflow/#/experiments/1\n",
      "Params: {'C': 1, 'penalty': 'l1', 'solver': 'liblinear'} | Accuracy: 0.7200 | F1: 0.7021\n",
      "🏃 View run LogisticRegression with params: {'C': 1, 'penalty': 'l1', 'solver': 'liblinear'} at: https://dagshub.com/i-atul/mlops-imdb-sentiment-analysis.mlflow/#/experiments/1/runs/dfee6bc62c8341a780826beb578dd0c6\n",
      "🧪 View experiment at: https://dagshub.com/i-atul/mlops-imdb-sentiment-analysis.mlflow/#/experiments/1\n",
      "Params: {'C': 1, 'penalty': 'l2', 'solver': 'liblinear'} | Accuracy: 0.8000 | F1: 0.7727\n",
      "🏃 View run LogisticRegression with params: {'C': 1, 'penalty': 'l2', 'solver': 'liblinear'} at: https://dagshub.com/i-atul/mlops-imdb-sentiment-analysis.mlflow/#/experiments/1/runs/2acda73957c743c8bdfeb4afad5fa1d1\n",
      "🧪 View experiment at: https://dagshub.com/i-atul/mlops-imdb-sentiment-analysis.mlflow/#/experiments/1\n",
      "Params: {'C': 10, 'penalty': 'l1', 'solver': 'liblinear'} | Accuracy: 0.7100 | F1: 0.6667\n",
      "🏃 View run LogisticRegression with params: {'C': 10, 'penalty': 'l1', 'solver': 'liblinear'} at: https://dagshub.com/i-atul/mlops-imdb-sentiment-analysis.mlflow/#/experiments/1/runs/4f9ff0665da74e32aec5ad6094304ff3\n",
      "🧪 View experiment at: https://dagshub.com/i-atul/mlops-imdb-sentiment-analysis.mlflow/#/experiments/1\n",
      "Params: {'C': 10, 'penalty': 'l2', 'solver': 'liblinear'} | Accuracy: 0.7900 | F1: 0.7586\n",
      "🏃 View run LogisticRegression with params: {'C': 10, 'penalty': 'l2', 'solver': 'liblinear'} at: https://dagshub.com/i-atul/mlops-imdb-sentiment-analysis.mlflow/#/experiments/1/runs/d87b5b0769b14c8a8a05d43e7c931e58\n",
      "🧪 View experiment at: https://dagshub.com/i-atul/mlops-imdb-sentiment-analysis.mlflow/#/experiments/1\n"
     ]
    },
    {
     "data": {
      "application/vnd.jupyter.widget-view+json": {
       "model_id": "4cd3ead1ec2a475f97c46a4a81e31870",
       "version_major": 2,
       "version_minor": 0
      },
      "text/plain": [
       "Downloading artifacts:   0%|          | 0/7 [00:00<?, ?it/s]"
      ]
     },
     "metadata": {},
     "output_type": "display_data"
    },
    {
     "name": "stdout",
     "output_type": "stream",
     "text": [
      "\n",
      "Best Params: {'C': 10, 'penalty': 'l2', 'solver': 'liblinear'} | Best F1 Score: 0.7337\n",
      "🏃 View run LogisticRegression with BoW at: https://dagshub.com/i-atul/mlops-imdb-sentiment-analysis.mlflow/#/experiments/1/runs/e35e20922af44596b03886a60418b798\n",
      "🧪 View experiment at: https://dagshub.com/i-atul/mlops-imdb-sentiment-analysis.mlflow/#/experiments/1\n",
      "Params: {'C': 0.1, 'penalty': 'l1', 'solver': 'liblinear'} | Accuracy: 0.5400 | F1: 0.0000\n",
      "🏃 View run LogisticRegression with params: {'C': 0.1, 'penalty': 'l1', 'solver': 'liblinear'} at: https://dagshub.com/i-atul/mlops-imdb-sentiment-analysis.mlflow/#/experiments/1/runs/86e9ab8d83c34c12bbaec4782a5132a9\n",
      "🧪 View experiment at: https://dagshub.com/i-atul/mlops-imdb-sentiment-analysis.mlflow/#/experiments/1\n",
      "Params: {'C': 0.1, 'penalty': 'l2', 'solver': 'liblinear'} | Accuracy: 0.5800 | F1: 0.1600\n",
      "🏃 View run LogisticRegression with params: {'C': 0.1, 'penalty': 'l2', 'solver': 'liblinear'} at: https://dagshub.com/i-atul/mlops-imdb-sentiment-analysis.mlflow/#/experiments/1/runs/4fcf08672877402c8112c1c8b9b23d7e\n",
      "🧪 View experiment at: https://dagshub.com/i-atul/mlops-imdb-sentiment-analysis.mlflow/#/experiments/1\n",
      "Params: {'C': 1, 'penalty': 'l1', 'solver': 'liblinear'} | Accuracy: 0.6400 | F1: 0.6250\n",
      "🏃 View run LogisticRegression with params: {'C': 1, 'penalty': 'l1', 'solver': 'liblinear'} at: https://dagshub.com/i-atul/mlops-imdb-sentiment-analysis.mlflow/#/experiments/1/runs/485a214d1c8b4eed8af6d4e3d414dc03\n",
      "🧪 View experiment at: https://dagshub.com/i-atul/mlops-imdb-sentiment-analysis.mlflow/#/experiments/1\n",
      "Params: {'C': 1, 'penalty': 'l2', 'solver': 'liblinear'} | Accuracy: 0.7700 | F1: 0.7160\n",
      "🏃 View run LogisticRegression with params: {'C': 1, 'penalty': 'l2', 'solver': 'liblinear'} at: https://dagshub.com/i-atul/mlops-imdb-sentiment-analysis.mlflow/#/experiments/1/runs/e1925bcf51364e5aa8576ded7dc23917\n",
      "🧪 View experiment at: https://dagshub.com/i-atul/mlops-imdb-sentiment-analysis.mlflow/#/experiments/1\n",
      "Params: {'C': 10, 'penalty': 'l1', 'solver': 'liblinear'} | Accuracy: 0.7400 | F1: 0.7234\n",
      "🏃 View run LogisticRegression with params: {'C': 10, 'penalty': 'l1', 'solver': 'liblinear'} at: https://dagshub.com/i-atul/mlops-imdb-sentiment-analysis.mlflow/#/experiments/1/runs/862cc00191834b8dad5065d3727cfd29\n",
      "🧪 View experiment at: https://dagshub.com/i-atul/mlops-imdb-sentiment-analysis.mlflow/#/experiments/1\n",
      "Params: {'C': 10, 'penalty': 'l2', 'solver': 'liblinear'} | Accuracy: 0.8100 | F1: 0.7765\n",
      "🏃 View run LogisticRegression with params: {'C': 10, 'penalty': 'l2', 'solver': 'liblinear'} at: https://dagshub.com/i-atul/mlops-imdb-sentiment-analysis.mlflow/#/experiments/1/runs/950a867d0e31471b843b3a2723c32f5d\n",
      "🧪 View experiment at: https://dagshub.com/i-atul/mlops-imdb-sentiment-analysis.mlflow/#/experiments/1\n"
     ]
    },
    {
     "data": {
      "application/vnd.jupyter.widget-view+json": {
       "model_id": "3712fb7150dc4d199251e47417f5c3ba",
       "version_major": 2,
       "version_minor": 0
      },
      "text/plain": [
       "Downloading artifacts:   0%|          | 0/7 [00:00<?, ?it/s]"
      ]
     },
     "metadata": {},
     "output_type": "display_data"
    },
    {
     "name": "stdout",
     "output_type": "stream",
     "text": [
      "\n",
      "Best Params: {'C': 10, 'penalty': 'l2', 'solver': 'liblinear'} | Best F1 Score: 0.7782\n",
      "🏃 View run LogisticRegression with TF-IDF at: https://dagshub.com/i-atul/mlops-imdb-sentiment-analysis.mlflow/#/experiments/1/runs/5909466e33364f93bfdf9c08f17bb872\n",
      "🧪 View experiment at: https://dagshub.com/i-atul/mlops-imdb-sentiment-analysis.mlflow/#/experiments/1\n",
      "Params: {'alpha': 0.5} | Accuracy: 0.7500 | F1: 0.7059\n",
      "🏃 View run MultinomialNB with params: {'alpha': 0.5} at: https://dagshub.com/i-atul/mlops-imdb-sentiment-analysis.mlflow/#/experiments/1/runs/7d7889b0bee34df18f1b1e2f56e3fb8a\n",
      "🧪 View experiment at: https://dagshub.com/i-atul/mlops-imdb-sentiment-analysis.mlflow/#/experiments/1\n",
      "Params: {'alpha': 1.0} | Accuracy: 0.7500 | F1: 0.6988\n",
      "🏃 View run MultinomialNB with params: {'alpha': 1.0} at: https://dagshub.com/i-atul/mlops-imdb-sentiment-analysis.mlflow/#/experiments/1/runs/0cb24c2c758442209f6f205b21dfe904\n",
      "🧪 View experiment at: https://dagshub.com/i-atul/mlops-imdb-sentiment-analysis.mlflow/#/experiments/1\n",
      "Params: {'alpha': 1.5} | Accuracy: 0.7600 | F1: 0.7073\n",
      "🏃 View run MultinomialNB with params: {'alpha': 1.5} at: https://dagshub.com/i-atul/mlops-imdb-sentiment-analysis.mlflow/#/experiments/1/runs/b8281bb6e89d4738b618b25684ca1cb2\n",
      "🧪 View experiment at: https://dagshub.com/i-atul/mlops-imdb-sentiment-analysis.mlflow/#/experiments/1\n"
     ]
    },
    {
     "data": {
      "application/vnd.jupyter.widget-view+json": {
       "model_id": "56f9ed263ac645cea905a74b2868b668",
       "version_major": 2,
       "version_minor": 0
      },
      "text/plain": [
       "Downloading artifacts:   0%|          | 0/7 [00:00<?, ?it/s]"
      ]
     },
     "metadata": {},
     "output_type": "display_data"
    },
    {
     "name": "stdout",
     "output_type": "stream",
     "text": [
      "\n",
      "Best Params: {'alpha': 1.5} | Best F1 Score: 0.7552\n",
      "🏃 View run MultinomialNB with BoW at: https://dagshub.com/i-atul/mlops-imdb-sentiment-analysis.mlflow/#/experiments/1/runs/641ba67817a84e53afd36da04ae91acc\n",
      "🧪 View experiment at: https://dagshub.com/i-atul/mlops-imdb-sentiment-analysis.mlflow/#/experiments/1\n",
      "Params: {'alpha': 0.5} | Accuracy: 0.7400 | F1: 0.6579\n",
      "🏃 View run MultinomialNB with params: {'alpha': 0.5} at: https://dagshub.com/i-atul/mlops-imdb-sentiment-analysis.mlflow/#/experiments/1/runs/a72df44b61374adc9a3de549f5daa201\n",
      "🧪 View experiment at: https://dagshub.com/i-atul/mlops-imdb-sentiment-analysis.mlflow/#/experiments/1\n",
      "Params: {'alpha': 1.0} | Accuracy: 0.7400 | F1: 0.6286\n",
      "🏃 View run MultinomialNB with params: {'alpha': 1.0} at: https://dagshub.com/i-atul/mlops-imdb-sentiment-analysis.mlflow/#/experiments/1/runs/812829d0f03643e7befc10ffcd66ebd0\n",
      "🧪 View experiment at: https://dagshub.com/i-atul/mlops-imdb-sentiment-analysis.mlflow/#/experiments/1\n",
      "Params: {'alpha': 1.5} | Accuracy: 0.7100 | F1: 0.5672\n",
      "🏃 View run MultinomialNB with params: {'alpha': 1.5} at: https://dagshub.com/i-atul/mlops-imdb-sentiment-analysis.mlflow/#/experiments/1/runs/1d08a1f86259439f821bd9a44c942722\n",
      "🧪 View experiment at: https://dagshub.com/i-atul/mlops-imdb-sentiment-analysis.mlflow/#/experiments/1\n"
     ]
    },
    {
     "data": {
      "application/vnd.jupyter.widget-view+json": {
       "model_id": "984e8a23d3ac4446878b94e3d43e3826",
       "version_major": 2,
       "version_minor": 0
      },
      "text/plain": [
       "Downloading artifacts:   0%|          | 0/7 [00:00<?, ?it/s]"
      ]
     },
     "metadata": {},
     "output_type": "display_data"
    },
    {
     "name": "stdout",
     "output_type": "stream",
     "text": [
      "\n",
      "Best Params: {'alpha': 0.5} | Best F1 Score: 0.7202\n",
      "🏃 View run MultinomialNB with TF-IDF at: https://dagshub.com/i-atul/mlops-imdb-sentiment-analysis.mlflow/#/experiments/1/runs/a1379ad1e71a468bb885917d69095743\n",
      "🧪 View experiment at: https://dagshub.com/i-atul/mlops-imdb-sentiment-analysis.mlflow/#/experiments/1\n",
      "Params: {'learning_rate': 0.01, 'max_depth': 3, 'n_estimators': 100} | Accuracy: 0.6800 | F1: 0.6981\n",
      "🏃 View run XGBoost with params: {'learning_rate': 0.01, 'max_depth': 3, 'n_estimators': 100} at: https://dagshub.com/i-atul/mlops-imdb-sentiment-analysis.mlflow/#/experiments/1/runs/06b9b886ffe242ffa2d5b0f0df695d81\n",
      "🧪 View experiment at: https://dagshub.com/i-atul/mlops-imdb-sentiment-analysis.mlflow/#/experiments/1\n",
      "Params: {'learning_rate': 0.01, 'max_depth': 3, 'n_estimators': 200} | Accuracy: 0.6500 | F1: 0.6392\n",
      "🏃 View run XGBoost with params: {'learning_rate': 0.01, 'max_depth': 3, 'n_estimators': 200} at: https://dagshub.com/i-atul/mlops-imdb-sentiment-analysis.mlflow/#/experiments/1/runs/65d720db2f054013a8166c0879b1bdfb\n",
      "🧪 View experiment at: https://dagshub.com/i-atul/mlops-imdb-sentiment-analysis.mlflow/#/experiments/1\n",
      "Params: {'learning_rate': 0.01, 'max_depth': 6, 'n_estimators': 100} | Accuracy: 0.6800 | F1: 0.6800\n",
      "🏃 View run XGBoost with params: {'learning_rate': 0.01, 'max_depth': 6, 'n_estimators': 100} at: https://dagshub.com/i-atul/mlops-imdb-sentiment-analysis.mlflow/#/experiments/1/runs/f4b141c5d9aa4ecf96895491b4b520db\n",
      "🧪 View experiment at: https://dagshub.com/i-atul/mlops-imdb-sentiment-analysis.mlflow/#/experiments/1\n",
      "Params: {'learning_rate': 0.01, 'max_depth': 6, 'n_estimators': 200} | Accuracy: 0.6400 | F1: 0.6250\n",
      "🏃 View run XGBoost with params: {'learning_rate': 0.01, 'max_depth': 6, 'n_estimators': 200} at: https://dagshub.com/i-atul/mlops-imdb-sentiment-analysis.mlflow/#/experiments/1/runs/422a180bfaee4c41bca90eb99c7a6ece\n",
      "🧪 View experiment at: https://dagshub.com/i-atul/mlops-imdb-sentiment-analysis.mlflow/#/experiments/1\n",
      "Params: {'learning_rate': 0.1, 'max_depth': 3, 'n_estimators': 100} | Accuracy: 0.7100 | F1: 0.7010\n",
      "🏃 View run XGBoost with params: {'learning_rate': 0.1, 'max_depth': 3, 'n_estimators': 100} at: https://dagshub.com/i-atul/mlops-imdb-sentiment-analysis.mlflow/#/experiments/1/runs/47238f280a0946dfb1b73e481dbdbeff\n",
      "🧪 View experiment at: https://dagshub.com/i-atul/mlops-imdb-sentiment-analysis.mlflow/#/experiments/1\n",
      "Params: {'learning_rate': 0.1, 'max_depth': 3, 'n_estimators': 200} | Accuracy: 0.7300 | F1: 0.7033\n",
      "🏃 View run XGBoost with params: {'learning_rate': 0.1, 'max_depth': 3, 'n_estimators': 200} at: https://dagshub.com/i-atul/mlops-imdb-sentiment-analysis.mlflow/#/experiments/1/runs/678455d8b3564b139df4c098174b8064\n",
      "🧪 View experiment at: https://dagshub.com/i-atul/mlops-imdb-sentiment-analysis.mlflow/#/experiments/1\n",
      "Params: {'learning_rate': 0.1, 'max_depth': 6, 'n_estimators': 100} | Accuracy: 0.6700 | F1: 0.6526\n",
      "🏃 View run XGBoost with params: {'learning_rate': 0.1, 'max_depth': 6, 'n_estimators': 100} at: https://dagshub.com/i-atul/mlops-imdb-sentiment-analysis.mlflow/#/experiments/1/runs/22b5b6d66618442cbac563951ba63b2c\n",
      "🧪 View experiment at: https://dagshub.com/i-atul/mlops-imdb-sentiment-analysis.mlflow/#/experiments/1\n",
      "Params: {'learning_rate': 0.1, 'max_depth': 6, 'n_estimators': 200} | Accuracy: 0.6900 | F1: 0.6737\n",
      "🏃 View run XGBoost with params: {'learning_rate': 0.1, 'max_depth': 6, 'n_estimators': 200} at: https://dagshub.com/i-atul/mlops-imdb-sentiment-analysis.mlflow/#/experiments/1/runs/c9c9a5742d064ed890ddf0bd69ed5bf6\n",
      "🧪 View experiment at: https://dagshub.com/i-atul/mlops-imdb-sentiment-analysis.mlflow/#/experiments/1\n"
     ]
    },
    {
     "data": {
      "application/vnd.jupyter.widget-view+json": {
       "model_id": "d1bd0a48304145cf95cf7eadbbbe26f9",
       "version_major": 2,
       "version_minor": 0
      },
      "text/plain": [
       "Downloading artifacts:   0%|          | 0/7 [00:00<?, ?it/s]"
      ]
     },
     "metadata": {},
     "output_type": "display_data"
    },
    {
     "name": "stdout",
     "output_type": "stream",
     "text": [
      "\n",
      "Best Params: {'learning_rate': 0.1, 'max_depth': 3, 'n_estimators': 100} | Best F1 Score: 0.7046\n",
      "🏃 View run XGBoost with BoW at: https://dagshub.com/i-atul/mlops-imdb-sentiment-analysis.mlflow/#/experiments/1/runs/f15a6df5d41740788327fe2faae8493b\n",
      "🧪 View experiment at: https://dagshub.com/i-atul/mlops-imdb-sentiment-analysis.mlflow/#/experiments/1\n",
      "Params: {'learning_rate': 0.01, 'max_depth': 3, 'n_estimators': 100} | Accuracy: 0.6400 | F1: 0.6327\n",
      "🏃 View run XGBoost with params: {'learning_rate': 0.01, 'max_depth': 3, 'n_estimators': 100} at: https://dagshub.com/i-atul/mlops-imdb-sentiment-analysis.mlflow/#/experiments/1/runs/925abd8a90564bf1af65de9a61d1cde3\n",
      "🧪 View experiment at: https://dagshub.com/i-atul/mlops-imdb-sentiment-analysis.mlflow/#/experiments/1\n",
      "Params: {'learning_rate': 0.01, 'max_depth': 3, 'n_estimators': 200} | Accuracy: 0.6600 | F1: 0.6531\n",
      "🏃 View run XGBoost with params: {'learning_rate': 0.01, 'max_depth': 3, 'n_estimators': 200} at: https://dagshub.com/i-atul/mlops-imdb-sentiment-analysis.mlflow/#/experiments/1/runs/ca44097ed7cc4baea192466bbb48b4f6\n",
      "🧪 View experiment at: https://dagshub.com/i-atul/mlops-imdb-sentiment-analysis.mlflow/#/experiments/1\n",
      "Params: {'learning_rate': 0.01, 'max_depth': 6, 'n_estimators': 100} | Accuracy: 0.6600 | F1: 0.6667\n",
      "🏃 View run XGBoost with params: {'learning_rate': 0.01, 'max_depth': 6, 'n_estimators': 100} at: https://dagshub.com/i-atul/mlops-imdb-sentiment-analysis.mlflow/#/experiments/1/runs/ac02c83a0f7346cfa0adc4d58edf3ebe\n",
      "🧪 View experiment at: https://dagshub.com/i-atul/mlops-imdb-sentiment-analysis.mlflow/#/experiments/1\n",
      "Params: {'learning_rate': 0.01, 'max_depth': 6, 'n_estimators': 200} | Accuracy: 0.6500 | F1: 0.6392\n",
      "🏃 View run XGBoost with params: {'learning_rate': 0.01, 'max_depth': 6, 'n_estimators': 200} at: https://dagshub.com/i-atul/mlops-imdb-sentiment-analysis.mlflow/#/experiments/1/runs/fd0ee176fc6b4ef3b473dfe806af26c9\n",
      "🧪 View experiment at: https://dagshub.com/i-atul/mlops-imdb-sentiment-analysis.mlflow/#/experiments/1\n",
      "Params: {'learning_rate': 0.1, 'max_depth': 3, 'n_estimators': 100} | Accuracy: 0.6900 | F1: 0.6737\n",
      "🏃 View run XGBoost with params: {'learning_rate': 0.1, 'max_depth': 3, 'n_estimators': 100} at: https://dagshub.com/i-atul/mlops-imdb-sentiment-analysis.mlflow/#/experiments/1/runs/23c7a6f2328d4debb631d5b49a5f4657\n",
      "🧪 View experiment at: https://dagshub.com/i-atul/mlops-imdb-sentiment-analysis.mlflow/#/experiments/1\n",
      "Params: {'learning_rate': 0.1, 'max_depth': 3, 'n_estimators': 200} | Accuracy: 0.7200 | F1: 0.7083\n",
      "🏃 View run XGBoost with params: {'learning_rate': 0.1, 'max_depth': 3, 'n_estimators': 200} at: https://dagshub.com/i-atul/mlops-imdb-sentiment-analysis.mlflow/#/experiments/1/runs/f97e83ef64b546b8b4f9e2ac2bcbdbdb\n",
      "🧪 View experiment at: https://dagshub.com/i-atul/mlops-imdb-sentiment-analysis.mlflow/#/experiments/1\n",
      "Params: {'learning_rate': 0.1, 'max_depth': 6, 'n_estimators': 100} | Accuracy: 0.6900 | F1: 0.6804\n",
      "🏃 View run XGBoost with params: {'learning_rate': 0.1, 'max_depth': 6, 'n_estimators': 100} at: https://dagshub.com/i-atul/mlops-imdb-sentiment-analysis.mlflow/#/experiments/1/runs/36f981e460af4cc99d9ca2209218b1d7\n",
      "🧪 View experiment at: https://dagshub.com/i-atul/mlops-imdb-sentiment-analysis.mlflow/#/experiments/1\n",
      "Params: {'learning_rate': 0.1, 'max_depth': 6, 'n_estimators': 200} | Accuracy: 0.6700 | F1: 0.6526\n",
      "🏃 View run XGBoost with params: {'learning_rate': 0.1, 'max_depth': 6, 'n_estimators': 200} at: https://dagshub.com/i-atul/mlops-imdb-sentiment-analysis.mlflow/#/experiments/1/runs/3bcc4b8406634c6a83e8f3e2364fecc1\n",
      "🧪 View experiment at: https://dagshub.com/i-atul/mlops-imdb-sentiment-analysis.mlflow/#/experiments/1\n"
     ]
    },
    {
     "data": {
      "application/vnd.jupyter.widget-view+json": {
       "model_id": "bc575e78f4304a0e9916ad3261f2b985",
       "version_major": 2,
       "version_minor": 0
      },
      "text/plain": [
       "Downloading artifacts:   0%|          | 0/7 [00:00<?, ?it/s]"
      ]
     },
     "metadata": {},
     "output_type": "display_data"
    },
    {
     "name": "stdout",
     "output_type": "stream",
     "text": [
      "\n",
      "Best Params: {'learning_rate': 0.1, 'max_depth': 3, 'n_estimators': 100} | Best F1 Score: 0.7080\n",
      "🏃 View run XGBoost with TF-IDF at: https://dagshub.com/i-atul/mlops-imdb-sentiment-analysis.mlflow/#/experiments/1/runs/767ff8e25245447a9e9d28eea4a3b6ce\n",
      "🧪 View experiment at: https://dagshub.com/i-atul/mlops-imdb-sentiment-analysis.mlflow/#/experiments/1\n",
      "Params: {'max_depth': None, 'n_estimators': 100} | Accuracy: 0.7600 | F1: 0.7143\n",
      "🏃 View run RandomForest with params: {'max_depth': None, 'n_estimators': 100} at: https://dagshub.com/i-atul/mlops-imdb-sentiment-analysis.mlflow/#/experiments/1/runs/93af3578be584112923de6e5d7a7bde1\n",
      "🧪 View experiment at: https://dagshub.com/i-atul/mlops-imdb-sentiment-analysis.mlflow/#/experiments/1\n",
      "Params: {'max_depth': None, 'n_estimators': 200} | Accuracy: 0.8000 | F1: 0.7619\n",
      "🏃 View run RandomForest with params: {'max_depth': None, 'n_estimators': 200} at: https://dagshub.com/i-atul/mlops-imdb-sentiment-analysis.mlflow/#/experiments/1/runs/75a89541b3ca472ea5b62de921f74f3b\n",
      "🧪 View experiment at: https://dagshub.com/i-atul/mlops-imdb-sentiment-analysis.mlflow/#/experiments/1\n",
      "Params: {'max_depth': 10, 'n_estimators': 100} | Accuracy: 0.7100 | F1: 0.6588\n",
      "🏃 View run RandomForest with params: {'max_depth': 10, 'n_estimators': 100} at: https://dagshub.com/i-atul/mlops-imdb-sentiment-analysis.mlflow/#/experiments/1/runs/19ac70b3b4204d3a972ccba6a9a0f768\n",
      "🧪 View experiment at: https://dagshub.com/i-atul/mlops-imdb-sentiment-analysis.mlflow/#/experiments/1\n",
      "Params: {'max_depth': 10, 'n_estimators': 200} | Accuracy: 0.7200 | F1: 0.6585\n",
      "🏃 View run RandomForest with params: {'max_depth': 10, 'n_estimators': 200} at: https://dagshub.com/i-atul/mlops-imdb-sentiment-analysis.mlflow/#/experiments/1/runs/885764b79a1b4e3c94d0ddaffd77ceaa\n",
      "🧪 View experiment at: https://dagshub.com/i-atul/mlops-imdb-sentiment-analysis.mlflow/#/experiments/1\n",
      "Params: {'max_depth': 20, 'n_estimators': 100} | Accuracy: 0.7800 | F1: 0.7500\n",
      "🏃 View run RandomForest with params: {'max_depth': 20, 'n_estimators': 100} at: https://dagshub.com/i-atul/mlops-imdb-sentiment-analysis.mlflow/#/experiments/1/runs/7eca2202bdf14dfc94419b1c5c0b0352\n",
      "🧪 View experiment at: https://dagshub.com/i-atul/mlops-imdb-sentiment-analysis.mlflow/#/experiments/1\n",
      "Params: {'max_depth': 20, 'n_estimators': 200} | Accuracy: 0.7700 | F1: 0.7473\n",
      "🏃 View run RandomForest with params: {'max_depth': 20, 'n_estimators': 200} at: https://dagshub.com/i-atul/mlops-imdb-sentiment-analysis.mlflow/#/experiments/1/runs/92c94e25db4b4136a708a424a007f6ab\n",
      "🧪 View experiment at: https://dagshub.com/i-atul/mlops-imdb-sentiment-analysis.mlflow/#/experiments/1\n"
     ]
    },
    {
     "data": {
      "application/vnd.jupyter.widget-view+json": {
       "model_id": "c990f1a766744f789d28f22216f614a7",
       "version_major": 2,
       "version_minor": 0
      },
      "text/plain": [
       "Downloading artifacts:   0%|          | 0/7 [00:00<?, ?it/s]"
      ]
     },
     "metadata": {},
     "output_type": "display_data"
    },
    {
     "name": "stdout",
     "output_type": "stream",
     "text": [
      "\n",
      "Best Params: {'max_depth': 10, 'n_estimators': 100} | Best F1 Score: 0.7242\n",
      "🏃 View run RandomForest with BoW at: https://dagshub.com/i-atul/mlops-imdb-sentiment-analysis.mlflow/#/experiments/1/runs/7fea819dea3a4f8c9fb4e1289777fe2c\n",
      "🧪 View experiment at: https://dagshub.com/i-atul/mlops-imdb-sentiment-analysis.mlflow/#/experiments/1\n",
      "Params: {'max_depth': None, 'n_estimators': 100} | Accuracy: 0.7700 | F1: 0.7473\n",
      "🏃 View run RandomForest with params: {'max_depth': None, 'n_estimators': 100} at: https://dagshub.com/i-atul/mlops-imdb-sentiment-analysis.mlflow/#/experiments/1/runs/1ca754680907417fb2cb47b34ccd8073\n",
      "🧪 View experiment at: https://dagshub.com/i-atul/mlops-imdb-sentiment-analysis.mlflow/#/experiments/1\n",
      "Params: {'max_depth': None, 'n_estimators': 200} | Accuracy: 0.8100 | F1: 0.8000\n",
      "🏃 View run RandomForest with params: {'max_depth': None, 'n_estimators': 200} at: https://dagshub.com/i-atul/mlops-imdb-sentiment-analysis.mlflow/#/experiments/1/runs/3752b607656a40a1b34f38493465f051\n",
      "🧪 View experiment at: https://dagshub.com/i-atul/mlops-imdb-sentiment-analysis.mlflow/#/experiments/1\n",
      "Params: {'max_depth': 10, 'n_estimators': 100} | Accuracy: 0.7300 | F1: 0.6897\n",
      "🏃 View run RandomForest with params: {'max_depth': 10, 'n_estimators': 100} at: https://dagshub.com/i-atul/mlops-imdb-sentiment-analysis.mlflow/#/experiments/1/runs/94ab50f449a34508875422d1c7168409\n",
      "🧪 View experiment at: https://dagshub.com/i-atul/mlops-imdb-sentiment-analysis.mlflow/#/experiments/1\n",
      "Params: {'max_depth': 10, 'n_estimators': 200} | Accuracy: 0.7400 | F1: 0.6667\n",
      "🏃 View run RandomForest with params: {'max_depth': 10, 'n_estimators': 200} at: https://dagshub.com/i-atul/mlops-imdb-sentiment-analysis.mlflow/#/experiments/1/runs/85b15793f0e74a638a1f6c7391b33a4b\n",
      "🧪 View experiment at: https://dagshub.com/i-atul/mlops-imdb-sentiment-analysis.mlflow/#/experiments/1\n",
      "Params: {'max_depth': 20, 'n_estimators': 100} | Accuracy: 0.7700 | F1: 0.7416\n",
      "🏃 View run RandomForest with params: {'max_depth': 20, 'n_estimators': 100} at: https://dagshub.com/i-atul/mlops-imdb-sentiment-analysis.mlflow/#/experiments/1/runs/5adeda193e5e44b888bb28c8fd09b854\n",
      "🧪 View experiment at: https://dagshub.com/i-atul/mlops-imdb-sentiment-analysis.mlflow/#/experiments/1\n",
      "Params: {'max_depth': 20, 'n_estimators': 200} | Accuracy: 0.7300 | F1: 0.6966\n",
      "🏃 View run RandomForest with params: {'max_depth': 20, 'n_estimators': 200} at: https://dagshub.com/i-atul/mlops-imdb-sentiment-analysis.mlflow/#/experiments/1/runs/65bcf28809284969a29faba076e9c01c\n",
      "🧪 View experiment at: https://dagshub.com/i-atul/mlops-imdb-sentiment-analysis.mlflow/#/experiments/1\n"
     ]
    },
    {
     "data": {
      "application/vnd.jupyter.widget-view+json": {
       "model_id": "4cf80343f3ba4539a55a144081bcb6f0",
       "version_major": 2,
       "version_minor": 0
      },
      "text/plain": [
       "Downloading artifacts:   0%|          | 0/7 [00:00<?, ?it/s]"
      ]
     },
     "metadata": {},
     "output_type": "display_data"
    },
    {
     "name": "stdout",
     "output_type": "stream",
     "text": [
      "\n",
      "Best Params: {'max_depth': None, 'n_estimators': 200} | Best F1 Score: 0.7426\n",
      "🏃 View run RandomForest with TF-IDF at: https://dagshub.com/i-atul/mlops-imdb-sentiment-analysis.mlflow/#/experiments/1/runs/d3a4c911f7e04c08a46ce2eb47130bd2\n",
      "🧪 View experiment at: https://dagshub.com/i-atul/mlops-imdb-sentiment-analysis.mlflow/#/experiments/1\n",
      "Params: {'learning_rate': 0.01, 'max_depth': 3, 'n_estimators': 100} | Accuracy: 0.6700 | F1: 0.6857\n",
      "🏃 View run GradientBoosting with params: {'learning_rate': 0.01, 'max_depth': 3, 'n_estimators': 100} at: https://dagshub.com/i-atul/mlops-imdb-sentiment-analysis.mlflow/#/experiments/1/runs/bd1ceb1f336e4465a1ac25e076b35672\n",
      "🧪 View experiment at: https://dagshub.com/i-atul/mlops-imdb-sentiment-analysis.mlflow/#/experiments/1\n",
      "Params: {'learning_rate': 0.01, 'max_depth': 3, 'n_estimators': 200} | Accuracy: 0.6600 | F1: 0.6531\n",
      "🏃 View run GradientBoosting with params: {'learning_rate': 0.01, 'max_depth': 3, 'n_estimators': 200} at: https://dagshub.com/i-atul/mlops-imdb-sentiment-analysis.mlflow/#/experiments/1/runs/af790462efa24705b2560038e981eed0\n",
      "🧪 View experiment at: https://dagshub.com/i-atul/mlops-imdb-sentiment-analysis.mlflow/#/experiments/1\n",
      "Params: {'learning_rate': 0.01, 'max_depth': 6, 'n_estimators': 100} | Accuracy: 0.6900 | F1: 0.6869\n",
      "🏃 View run GradientBoosting with params: {'learning_rate': 0.01, 'max_depth': 6, 'n_estimators': 100} at: https://dagshub.com/i-atul/mlops-imdb-sentiment-analysis.mlflow/#/experiments/1/runs/4bab1315f74b49bcaaf884fdfce721e1\n",
      "🧪 View experiment at: https://dagshub.com/i-atul/mlops-imdb-sentiment-analysis.mlflow/#/experiments/1\n",
      "Params: {'learning_rate': 0.01, 'max_depth': 6, 'n_estimators': 200} | Accuracy: 0.6800 | F1: 0.6667\n",
      "🏃 View run GradientBoosting with params: {'learning_rate': 0.01, 'max_depth': 6, 'n_estimators': 200} at: https://dagshub.com/i-atul/mlops-imdb-sentiment-analysis.mlflow/#/experiments/1/runs/4a903d56a47f4647b410fb62e9a89bad\n",
      "🧪 View experiment at: https://dagshub.com/i-atul/mlops-imdb-sentiment-analysis.mlflow/#/experiments/1\n",
      "Params: {'learning_rate': 0.1, 'max_depth': 3, 'n_estimators': 100} | Accuracy: 0.7200 | F1: 0.7200\n",
      "🏃 View run GradientBoosting with params: {'learning_rate': 0.1, 'max_depth': 3, 'n_estimators': 100} at: https://dagshub.com/i-atul/mlops-imdb-sentiment-analysis.mlflow/#/experiments/1/runs/229a276611014649b57910007ceb8af2\n",
      "🧪 View experiment at: https://dagshub.com/i-atul/mlops-imdb-sentiment-analysis.mlflow/#/experiments/1\n",
      "Params: {'learning_rate': 0.1, 'max_depth': 3, 'n_estimators': 200} | Accuracy: 0.7300 | F1: 0.7273\n",
      "🏃 View run GradientBoosting with params: {'learning_rate': 0.1, 'max_depth': 3, 'n_estimators': 200} at: https://dagshub.com/i-atul/mlops-imdb-sentiment-analysis.mlflow/#/experiments/1/runs/42391be6f9334252ae4138a03f5644f1\n",
      "🧪 View experiment at: https://dagshub.com/i-atul/mlops-imdb-sentiment-analysis.mlflow/#/experiments/1\n",
      "Params: {'learning_rate': 0.1, 'max_depth': 6, 'n_estimators': 100} | Accuracy: 0.7200 | F1: 0.6957\n",
      "🏃 View run GradientBoosting with params: {'learning_rate': 0.1, 'max_depth': 6, 'n_estimators': 100} at: https://dagshub.com/i-atul/mlops-imdb-sentiment-analysis.mlflow/#/experiments/1/runs/2335d7722b54400490c4e7228380001d\n",
      "🧪 View experiment at: https://dagshub.com/i-atul/mlops-imdb-sentiment-analysis.mlflow/#/experiments/1\n",
      "Params: {'learning_rate': 0.1, 'max_depth': 6, 'n_estimators': 200} | Accuracy: 0.7200 | F1: 0.6957\n",
      "🏃 View run GradientBoosting with params: {'learning_rate': 0.1, 'max_depth': 6, 'n_estimators': 200} at: https://dagshub.com/i-atul/mlops-imdb-sentiment-analysis.mlflow/#/experiments/1/runs/8134c43c53f04390a8235568e1f6ca3b\n",
      "🧪 View experiment at: https://dagshub.com/i-atul/mlops-imdb-sentiment-analysis.mlflow/#/experiments/1\n"
     ]
    },
    {
     "data": {
      "application/vnd.jupyter.widget-view+json": {
       "model_id": "b55babd13cf64e74915026c1aaf5b487",
       "version_major": 2,
       "version_minor": 0
      },
      "text/plain": [
       "Downloading artifacts:   0%|          | 0/7 [00:00<?, ?it/s]"
      ]
     },
     "metadata": {},
     "output_type": "display_data"
    },
    {
     "name": "stdout",
     "output_type": "stream",
     "text": [
      "\n",
      "Best Params: {'learning_rate': 0.1, 'max_depth': 6, 'n_estimators': 100} | Best F1 Score: 0.6800\n",
      "🏃 View run GradientBoosting with BoW at: https://dagshub.com/i-atul/mlops-imdb-sentiment-analysis.mlflow/#/experiments/1/runs/3313cdde20c347b7a523bfbb6dbf8573\n",
      "🧪 View experiment at: https://dagshub.com/i-atul/mlops-imdb-sentiment-analysis.mlflow/#/experiments/1\n",
      "Params: {'learning_rate': 0.01, 'max_depth': 3, 'n_estimators': 100} | Accuracy: 0.6500 | F1: 0.6154\n",
      "🏃 View run GradientBoosting with params: {'learning_rate': 0.01, 'max_depth': 3, 'n_estimators': 100} at: https://dagshub.com/i-atul/mlops-imdb-sentiment-analysis.mlflow/#/experiments/1/runs/7d2bea1495444056b294589d0efe089e\n",
      "🧪 View experiment at: https://dagshub.com/i-atul/mlops-imdb-sentiment-analysis.mlflow/#/experiments/1\n",
      "Params: {'learning_rate': 0.01, 'max_depth': 3, 'n_estimators': 200} | Accuracy: 0.6500 | F1: 0.6316\n",
      "🏃 View run GradientBoosting with params: {'learning_rate': 0.01, 'max_depth': 3, 'n_estimators': 200} at: https://dagshub.com/i-atul/mlops-imdb-sentiment-analysis.mlflow/#/experiments/1/runs/da74e3bd071e401585a4a327f726a83f\n",
      "🧪 View experiment at: https://dagshub.com/i-atul/mlops-imdb-sentiment-analysis.mlflow/#/experiments/1\n",
      "Params: {'learning_rate': 0.01, 'max_depth': 6, 'n_estimators': 100} | Accuracy: 0.6200 | F1: 0.5957\n",
      "🏃 View run GradientBoosting with params: {'learning_rate': 0.01, 'max_depth': 6, 'n_estimators': 100} at: https://dagshub.com/i-atul/mlops-imdb-sentiment-analysis.mlflow/#/experiments/1/runs/b2d1cb6e054248ccbb20f85c08c89606\n",
      "🧪 View experiment at: https://dagshub.com/i-atul/mlops-imdb-sentiment-analysis.mlflow/#/experiments/1\n",
      "Params: {'learning_rate': 0.01, 'max_depth': 6, 'n_estimators': 200} | Accuracy: 0.6300 | F1: 0.6105\n",
      "🏃 View run GradientBoosting with params: {'learning_rate': 0.01, 'max_depth': 6, 'n_estimators': 200} at: https://dagshub.com/i-atul/mlops-imdb-sentiment-analysis.mlflow/#/experiments/1/runs/dbeed0dc309e488780b9d719ed7281f5\n",
      "🧪 View experiment at: https://dagshub.com/i-atul/mlops-imdb-sentiment-analysis.mlflow/#/experiments/1\n",
      "Params: {'learning_rate': 0.1, 'max_depth': 3, 'n_estimators': 100} | Accuracy: 0.7000 | F1: 0.6939\n",
      "🏃 View run GradientBoosting with params: {'learning_rate': 0.1, 'max_depth': 3, 'n_estimators': 100} at: https://dagshub.com/i-atul/mlops-imdb-sentiment-analysis.mlflow/#/experiments/1/runs/f76cc33b915247599cdc54f43a62848d\n",
      "🧪 View experiment at: https://dagshub.com/i-atul/mlops-imdb-sentiment-analysis.mlflow/#/experiments/1\n",
      "Params: {'learning_rate': 0.1, 'max_depth': 3, 'n_estimators': 200} | Accuracy: 0.7400 | F1: 0.7292\n",
      "🏃 View run GradientBoosting with params: {'learning_rate': 0.1, 'max_depth': 3, 'n_estimators': 200} at: https://dagshub.com/i-atul/mlops-imdb-sentiment-analysis.mlflow/#/experiments/1/runs/0f1b3d0d64bf464d857ea9b08e6b18d9\n",
      "🧪 View experiment at: https://dagshub.com/i-atul/mlops-imdb-sentiment-analysis.mlflow/#/experiments/1\n",
      "Params: {'learning_rate': 0.1, 'max_depth': 6, 'n_estimators': 100} | Accuracy: 0.7400 | F1: 0.7174\n",
      "🏃 View run GradientBoosting with params: {'learning_rate': 0.1, 'max_depth': 6, 'n_estimators': 100} at: https://dagshub.com/i-atul/mlops-imdb-sentiment-analysis.mlflow/#/experiments/1/runs/fe0efbe8b140429eb67f4ad58692064f\n",
      "🧪 View experiment at: https://dagshub.com/i-atul/mlops-imdb-sentiment-analysis.mlflow/#/experiments/1\n",
      "Params: {'learning_rate': 0.1, 'max_depth': 6, 'n_estimators': 200} | Accuracy: 0.7700 | F1: 0.7473\n",
      "🏃 View run GradientBoosting with params: {'learning_rate': 0.1, 'max_depth': 6, 'n_estimators': 200} at: https://dagshub.com/i-atul/mlops-imdb-sentiment-analysis.mlflow/#/experiments/1/runs/6d72e8da62c44168a6815ff7abf646e1\n",
      "🧪 View experiment at: https://dagshub.com/i-atul/mlops-imdb-sentiment-analysis.mlflow/#/experiments/1\n"
     ]
    },
    {
     "data": {
      "application/vnd.jupyter.widget-view+json": {
       "model_id": "e7ea9f06add04498837c4403dd7ce102",
       "version_major": 2,
       "version_minor": 0
      },
      "text/plain": [
       "Downloading artifacts:   0%|          | 0/7 [00:00<?, ?it/s]"
      ]
     },
     "metadata": {},
     "output_type": "display_data"
    },
    {
     "name": "stdout",
     "output_type": "stream",
     "text": [
      "\n",
      "Best Params: {'learning_rate': 0.1, 'max_depth': 3, 'n_estimators': 200} | Best F1 Score: 0.7010\n",
      "🏃 View run GradientBoosting with TF-IDF at: https://dagshub.com/i-atul/mlops-imdb-sentiment-analysis.mlflow/#/experiments/1/runs/4f1a3abdd7a844bb9774349f191d1f98\n",
      "🧪 View experiment at: https://dagshub.com/i-atul/mlops-imdb-sentiment-analysis.mlflow/#/experiments/1\n",
      "🏃 View run All Experiments at: https://dagshub.com/i-atul/mlops-imdb-sentiment-analysis.mlflow/#/experiments/1/runs/f02334ffc9fe4f7992d4aa58d2374e8a\n",
      "🧪 View experiment at: https://dagshub.com/i-atul/mlops-imdb-sentiment-analysis.mlflow/#/experiments/1\n"
     ]
    }
   ],
   "source": [
    "if __name__ == \"__main__\":\n",
    "    warnings.simplefilter(\"ignore\", UserWarning)\n",
    "    warnings.filterwarnings(\"ignore\")\n",
    "    pd.set_option('future.no_silent_downcasting', True)\n",
    "    \n",
    "    init_mlflow()\n",
    "    df = load_data(CONFIG[\"data_path\"])\n",
    "    train_and_evaluate(df)"
   ]
  }
 ],
 "metadata": {
  "kernelspec": {
   "display_name": "Python 3",
   "language": "python",
   "name": "python3"
  },
  "language_info": {
   "codemirror_mode": {
    "name": "ipython",
    "version": 3
   },
   "file_extension": ".py",
   "mimetype": "text/x-python",
   "name": "python",
   "nbconvert_exporter": "python",
   "pygments_lexer": "ipython3",
   "version": "3.10.16"
  }
 },
 "nbformat": 4,
 "nbformat_minor": 2
}
